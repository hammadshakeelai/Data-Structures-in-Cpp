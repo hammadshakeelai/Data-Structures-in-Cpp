{
 "cells": [
  {
   "cell_type": "code",
   "execution_count": null,
   "id": "716232c2",
   "metadata": {},
   "outputs": [],
   "source": [
    "\n",
    "    #include<iostream>\n",
    "    using namespace std;\n",
    "    int main(){\n",
    "        int a, b;\n",
    "        cout<<\"enter a and b: \";\n",
    "        cin>>a>>b;\n",
    "        cout<<\"a+b = \"<<a+b<<endl;\n",
    "        return 0;\n",
    "    }\n"
   ]
  },
  {
   "cell_type": "code",
   "execution_count": null,
   "id": "1b0d3c28",
   "metadata": {},
   "outputs": [],
   "source": [
    "#include<iostream>\n",
    "using namespace std;\n",
    "int main(){\n",
    "    int a, b;\n",
    "    cin>>a>>b;\n",
    "    cout<<a-b<<endl;\n",
    "    return 0;\n",
    "}"
   ]
  },
  {
   "cell_type": "code",
   "execution_count": null,
   "id": "6052a50d",
   "metadata": {},
   "outputs": [],
   "source": [
    "#include<iostream>\n",
    "using namespace std;\n",
    "int main(){\n",
    "    int a, b;\n",
    "    cin>>a>>b;\n",
    "    cout<<a*b<<endl;\n",
    "    return 0;\n",
    "}"
   ]
  },
  {
   "cell_type": "code",
   "execution_count": null,
   "id": "92b1a53c",
   "metadata": {},
   "outputs": [],
   "source": [
    "#include<iostream>\n",
    "using namespace std;\n",
    "int main(){\n",
    "    int a, b;\n",
    "    cin>>a>>b;\n",
    "    cout<<a/b<<endl;\n",
    "    cout<<a%b<<endl;\n",
    "    return 0;\n",
    "}"
   ]
  },
  {
   "cell_type": "code",
   "execution_count": null,
   "id": "0a7f492d",
   "metadata": {},
   "outputs": [],
   "source": [
    "#include<iostream>\n",
    "using namespace std;\n",
    "int main(){\n",
    "    float a;\n",
    "    cin>>a;\n",
    "    cout<<a**2<<endl;\n",
    "    return 0;\n",
    "}"
   ]
  },
  {
   "cell_type": "code",
   "execution_count": null,
   "id": "90d10a37",
   "metadata": {},
   "outputs": [],
   "source": [
    "#include<iostream>\n",
    "using namespace std;\n",
    "int main(){\n",
    "    float a;\n",
    "    cin>>a;\n",
    "    cout<<a**3<<endl;\n",
    "    return 0;\n",
    "}"
   ]
  },
  {
   "cell_type": "code",
   "execution_count": null,
   "id": "de21d8cf",
   "metadata": {},
   "outputs": [],
   "source": [
    "#include<iostream>\n",
    "using namespace std;\n",
    "int main(){\n",
    "    float a;\n",
    "    cin>>a;\n",
    "    cout<<a**2<<endl;\n",
    "    cout<<a*4<<endl;\n",
    "    return 0;\n",
    "}"
   ]
  },
  {
   "cell_type": "code",
   "execution_count": null,
   "id": "4b0fdeb2",
   "metadata": {},
   "outputs": [],
   "source": [
    "#include<iostream>\n",
    "using namespace std;\n",
    "int main(){\n",
    "    int a, b;\n",
    "    cin>>a>>b;\n",
    "    cout<<a*b<<endl;\n",
    "    cout<<(a+b)*2<<endl;\n",
    "    return 0;\n",
    "}"
   ]
  },
  {
   "cell_type": "code",
   "execution_count": null,
   "id": "d1ae4217",
   "metadata": {},
   "outputs": [],
   "source": [
    "\n",
    "#include<iostream>\n",
    "using namespace std;\n",
    "int main(){\n",
    "    float pi = 3.14159;\n",
    "    int r;\n",
    "    cin>>r;\n",
    "    cout<<pi*(r**2)<<endl;\n",
    "    cout<<2*pi*r<<endl;\n",
    "    return 0;\n",
    "}"
   ]
  },
  {
   "cell_type": "code",
   "execution_count": null,
   "id": "37a01381",
   "metadata": {},
   "outputs": [],
   "source": [
    "//celcius to fahrenheit\n",
    "#include<iostream>\n",
    "using namespace std;\n",
    "int main(){\n",
    "    float c;\n",
    "    cin>>c 0;\n",
    "};\n",
    "    cout<<(c*9/5)+32<<endl;\n",
    "    \n",
    "    return"
   ]
  },
  {
   "cell_type": "code",
   "execution_count": null,
   "id": "00a58bc1",
   "metadata": {},
   "outputs": [],
   "source": [
    "//fahrenheit to celcius\n",
    "#include<iostream>\n",
    "using namespace std;\n",
    "int main(){\n",
    "    float f;\n",
    "    cin>>f;\n",
    "    cout<<(f-32)*5/9<<endl;\n",
    "    return 0;\n",
    "}"
   ]
  },
  {
   "cell_type": "code",
   "execution_count": null,
   "id": "356b74ed",
   "metadata": {},
   "outputs": [],
   "source": [
    "#include<iostream>\n",
    "using namespace std;\n",
    "int main(){\n",
    "    float d, t;\n",
    "    cin>>d>>t;\n",
    "    cout<<d/t<<endl;\n",
    "    return 0;\n",
    "}"
   ]
  },
  {
   "cell_type": "code",
   "execution_count": null,
   "id": "51e78bcd",
   "metadata": {},
   "outputs": [],
   "source": [
    "#include<iostream>\n",
    "using namespace std;\n",
    "int main(){\n",
    "    int m;\n",
    "    cin>>m;\n",
    "    cout<<\"hours: \"<<m/60<<endl;\n",
    "    cout<<\"minutes: \"<<m%60<<endl;\n",
    "    return 0;\n",
    "}"
   ]
  },
  {
   "cell_type": "code",
   "execution_count": null,
   "id": "61a70bc5",
   "metadata": {},
   "outputs": [],
   "source": [
    "#include<iostream>\n",
    "using namespace std;\n",
    "int main(){\n",
    "    int s;\n",
    "    cin>>s;\n",
    "    cout<<\"hours: \"<<s/3600<<endl;\n",
    "    cout<<\"minutes: \"<<s/60<<endl;\n",
    "    cout<<\"seconds: \"<<s%60<<endl;\n",
    "    \n",
    "    return 0;\n",
    "}"
   ]
  },
  {
   "cell_type": "code",
   "execution_count": null,
   "id": "fbfe1a96",
   "metadata": {},
   "outputs": [],
   "source": [
    "#include <iostream>\n",
    "using namespace std;\n",
    "int main() {\n",
    "    int year;\n",
    "    cin >> year;\n",
    "    if ((year % 4 == 0 && year % 100 != 0) || (year % 400 == 0)) {\n",
    "        cout << year << \" is a leap year.\" << endl;\n",
    "    } else {\n",
    "        cout << year << \" is not a leap year.\" << endl;\n",
    "    }\n",
    "    return 0;\n",
    "}"
   ]
  },
  {
   "cell_type": "code",
   "execution_count": 18,
   "id": "8ab4c423",
   "metadata": {},
   "outputs": [
    {
     "name": "stdout",
     "output_type": "stream",
     "text": [
      "Overwriting main.cpp\n"
     ]
    }
   ],
   "source": [
    "%%file main.cpp\n",
    "#include<iostream>\n",
    "using namespace std;\n",
    "int main(){\n",
    "    int num=153;\n",
    "    cout<<num%10;\n",
    "    cout<<(num/10)%10;\n",
    "    cout<<(num/100)%10;\n",
    "    \n",
    "    return 0;\n",
    "}"
   ]
  },
  {
   "cell_type": "code",
   "execution_count": 21,
   "id": "4f243871",
   "metadata": {},
   "outputs": [
    {
     "name": "stdout",
     "output_type": "stream",
     "text": [
      "Microsoft Windows [Version 10.0.26100.6584]\n",
      "(c) Microsoft Corporation. All rights reserved.\n",
      "\n",
      "d:\\Github\\Data-Structures-in-Cpp>g++ main.cpp -o main.exe\n"
     ]
    },
    {
     "name": "stderr",
     "output_type": "stream",
     "text": [
      "C:/msys64/ucrt64/bin/../lib/gcc/x86_64-w64-mingw32/14.2.0/../../../../x86_64-w64-mingw32/bin/ld.exe: cannot open output file main.exe: Permission denied\n",
      "collect2.exe: error: ld returned 1 exit status\n"
     ]
    },
    {
     "name": "stdout",
     "output_type": "stream",
     "text": [
      "\n",
      "d:\\Github\\Data-Structures-in-Cpp>"
     ]
    }
   ],
   "source": [
    "%%cmd\n",
    "g++ main.cpp -o main.exe"
   ]
  },
  {
   "cell_type": "code",
   "execution_count": 20,
   "id": "db0c9d95",
   "metadata": {},
   "outputs": [
    {
     "name": "stdout",
     "output_type": "stream",
     "text": [
      "^C\n"
     ]
    }
   ],
   "source": [
    "! ./main.exe"
   ]
  },
  {
   "cell_type": "code",
   "execution_count": 1,
   "id": "d11f0342",
   "metadata": {},
   "outputs": [
    {
     "ename": "ModuleNotFoundError",
     "evalue": "No module named 'matlab'",
     "output_type": "error",
     "traceback": [
      "\u001b[31m---------------------------------------------------------------------------\u001b[39m",
      "\u001b[31mModuleNotFoundError\u001b[39m                       Traceback (most recent call last)",
      "\u001b[36mCell\u001b[39m\u001b[36m \u001b[39m\u001b[32mIn[1]\u001b[39m\u001b[32m, line 1\u001b[39m\n\u001b[32m----> \u001b[39m\u001b[32m1\u001b[39m \u001b[38;5;28;01mimport\u001b[39;00m\u001b[38;5;250m \u001b[39m\u001b[34;01mmatlab\u001b[39;00m\n",
      "\u001b[31mModuleNotFoundError\u001b[39m: No module named 'matlab'"
     ]
    }
   ],
   "source": [
    "import matlab"
   ]
  }
 ],
 "metadata": {
  "kernelspec": {
   "display_name": "Python 3",
   "language": "python",
   "name": "python3"
  },
  "language_info": {
   "codemirror_mode": {
    "name": "ipython",
    "version": 3
   },
   "file_extension": ".py",
   "mimetype": "text/x-python",
   "name": "python",
   "nbconvert_exporter": "python",
   "pygments_lexer": "ipython3",
   "version": "3.12.10"
  }
 },
 "nbformat": 4,
 "nbformat_minor": 5
}
