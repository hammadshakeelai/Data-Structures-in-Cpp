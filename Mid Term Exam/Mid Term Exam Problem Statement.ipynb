{
 "cells": [
  {
   "cell_type": "markdown",
   "id": "a646a9fe",
   "metadata": {
    "vscode": {
     "languageId": "html"
    }
   },
   "source": [
    "Midterm Exam Problem Statement \n",
    "\n",
    "Scenario: \n",
    "            Hospital Emergency Queue System \n",
    "\n",
    "A small hospital is managing patients in the Emergency Room (ER). Because patient priority can\n",
    "change quickly (new critical patients arrive, discharged patients leave, etc.), the hospital wants a\n",
    "flexible system to keep track of the current patients in the ER. \n",
    "\n",
    "You are asked to design and manipulate this ER queue using a Doubly Linked List.\n",
    " "
   ]
  },
  {
   "cell_type": "markdown",
   "id": "e8c77a37",
   "metadata": {},
   "source": [
    "Each node in the list represents one patient, and stores: \n",
    "            patientID (integer) \n",
    "            pointers to previous and next patients \n",
    "You must support the following operations on this ER queue: \n",
    "1. Add a new patient at the beginning of the list \n",
    "    o This is used when a critical patient arrives by ambulance and must be treated first. \n",
    "    o (Insert from beginning)\n",
    "2. Add a new patient at the end of the list \n",
    "    o This is used for normal walk-in patients who can wait. \n",
    "    o (Insert from ending)\n",
    "3. Add a new patient at a specific position in the list \n",
    "    o The ER head nurse can insert a patient at an exact position k (1-based index),\n",
    "    where: \n",
    "            position 1 means “treat immediately,” \n",
    "            position 2 means “treat after the first patient,” and so on. \n",
    "    o For example, inserting at position 3 means: after the 2nd patient, before the 3rd patient. \n",
    "    o (Insert at specific position)\n",
    "4. Remove a patient from the beginning of the list \n",
    "    o This is used when the first patient has been treated and leaves the ER. \n",
    "    o (Delete from beginning) "
   ]
  },
  {
   "cell_type": "markdown",
   "id": "81b3df71",
   "metadata": {},
   "source": [
    "You’re Tasks \n",
    "Q1. (Implementation / Logic) \n",
    "\n",
    "Write the logic (in C++ or in detailed pseudocode) for the following functions for this ER queue: \n",
    "        insertAtBeginning(patientID) \n",
    "        insertAtEnd(patientID) \n",
    "        insertAtPosition(patientID, position) \n",
    "        deleteFromBeginning() \n",
    "\n",
    "Your code must clearly update: \n",
    "        head \n",
    "        tail \n",
    "        prev and next pointers \n",
    "\n",
    "You must handle edge cases, including: \n",
    "        inserting into an empty list \n",
    "        deleting when the list has only one node \n",
    "        inserting at position 1 \n",
    "        inserting at a position greater than the current length (explain how you will handle it)"
   ]
  },
  {
   "cell_type": "markdown",
   "id": "76b3b056",
   "metadata": {},
   "source": [
    "Q2. (Dry Run / Trace)\n",
    "You start with an empty ER list. \n",
    "Perform the following operations step by step, and after each step, draw the doubly linked list."
   ]
  },
  {
   "cell_type": "markdown",
   "id": "71157409",
   "metadata": {},
   "source": [
    "Show each node’s patientID, and show arrows for both prev and next. \n",
    "Operations:\n",
    " \n",
    "1. insertAtEnd(101)\n",
    "2. insertAtEnd(102)\n",
    "3. insertAtBeginning(200) // critical patient\n",
    "4. insertAtPosition(150, 2)\n",
    "5. deleteFromBeginning()\n",
    "6. insertAtEnd(300) "
   ]
  },
  {
   "cell_type": "markdown",
   "id": "4b83f77d",
   "metadata": {},
   "source": [
    "After step 6, answer: \n",
    "        (a) What is the patientID at the head? \n",
    "        (b) What is the patientID at the tail? \n",
    "        (c) Write the list from head → tail (forward traversal). \n",
    "        (d) Write the list from tail → head (backward traversal). \n",
    "        \n",
    "Marks are given for correct order and correct pointer understanding. "
   ]
  },
  {
   "cell_type": "markdown",
   "id": "c2618fe0",
   "metadata": {},
   "source": [
    "Q3. Design the poster that has the following sections \n",
    "1. Title \n",
    "2. Sub Title ( Student Name , Roll No ) \n",
    "3. Problem Statement \n",
    "4. Proposed Solution \n",
    "5. Graphical Representation of Linked List After Performing Each Step "
   ]
  },
  {
   "cell_type": "markdown",
   "id": "1901d541",
   "metadata": {
    "vscode": {
     "languageId": "html"
    }
   },
   "source": [
    "        insertAtEnd(101) \n",
    "        insertAtEnd(102) \n",
    "        insertAtBeginning(200) // critical patient \n",
    "        insertAtPosition(150, 2) \n",
    "        deleteFromBeginning() \n",
    "        insertAtEnd(300) "
   ]
  },
  {
   "cell_type": "markdown",
   "id": "bdcf8145",
   "metadata": {},
   "source": [
    "Upload the following on your GitHub directory \n",
    "1. Complete C++ Code \n",
    "2. Poster \n",
    "3. Poster in Pdf as well "
   ]
  },
  {
   "cell_type": "code",
   "execution_count": null,
   "metadata": {
    "vscode": {
     "languageId": "cpp"
    }
   },
   "outputs": [],
   "source": [
    "class ER_Queue{\n",
    "\tpublic:\n",
    "\t\tPatient *head;\n",
    "\t\tPatient *tail;\n",
    "\t\tER_Queue(){\n",
    "\t\t\tcout << \"ER Queue is now Open for Emergency's.\" << endl;\n",
    "\t\t\thead = nullptr;\n",
    "\t\t\ttail = nullptr;\n",
    "\t\t}\n",
    "\t\t~ER_Queue(){\n",
    "\t\t\tPatient* temp = head;\n",
    "\t\t\tif(head != nullptr){\n",
    "\t\t\t\tcout << \"Remaining Patients have been Sent Home.\" << endl;\n",
    "\t\t\t}\n",
    "\t\t\twhile(head != nullptr){// run loop half forward from head to middle simultaneously from tail to middle delete at 2x speed\n",
    "\t\t\t\thead = head->next;\n",
    "\t\t\t\tcout << \"Patient ID: \" << temp->patientID << \" Sent Home.\" << endl;\n",
    "\t\t\t\tdelete temp;\n",
    "\t\t\t\ttemp = head;\n",
    "\t\t\t}//understand this sir even though tail+prev's are dangling but after this distructor they wont exist thus it doesnt matter if i equal them to nullptr or not cos either way no one can access them anymore\n",
    "\t\t\tcout << \"ER Queue Ended.\" << endl;\n",
    "\t\t}\n",
    "\t\tvoid insertAtBeginning(int patientID){...}\n",
    "\t\tvoid insertAtEnd(int patientID){...}\n",
    "\t\tvoid deleteFromBeginning(){...}\n",
    "\t\tvoid insertAtPosition(int patientID, int position){...}\t\n",
    "\t\tvoid Display(){...}\n",
    "};"
   ]
  },
  {
   "cell_type": "markdown",
   "id": "579f1cb1",
   "metadata": {},
   "source": [
    "output\n",
    "psuedo code\n"
   ]
  }
 ],
 "metadata": {
  "language_info": {
   "name": "python"
  }
 },
 "nbformat": 4,
 "nbformat_minor": 5
}
